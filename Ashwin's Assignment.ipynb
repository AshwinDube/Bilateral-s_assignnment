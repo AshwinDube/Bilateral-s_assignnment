{
 "cells": [
  {
   "cell_type": "markdown",
   "id": "a1804d1a",
   "metadata": {},
   "source": [
    "## Assignmnet submitted by: Ashwin Dubey "
   ]
  },
  {
   "cell_type": "markdown",
   "id": "8bd132f0",
   "metadata": {},
   "source": [
    "### 1. Importing important Libraries"
   ]
  },
  {
   "cell_type": "code",
   "execution_count": 1,
   "id": "8df6f5ab",
   "metadata": {},
   "outputs": [],
   "source": [
    "import os\n",
    "import time\n",
    "from threading import *\n",
    "import shutil\n",
    "from threading import Thread\n",
    "from time import sleep\n",
    "import threading"
   ]
  },
  {
   "cell_type": "markdown",
   "id": "2083a92c",
   "metadata": {},
   "source": [
    "### 2. Making a file with the name as 'Processing','Queue','Process'"
   ]
  },
  {
   "cell_type": "code",
   "execution_count": 2,
   "id": "2ab95b54",
   "metadata": {},
   "outputs": [
    {
     "name": "stdout",
     "output_type": "stream",
     "text": [
      "File Already exist\n",
      "File Already exist\n",
      "File Already exist\n"
     ]
    }
   ],
   "source": [
    "# Creating a folders\n",
    "path1='B:\\Bilateral files\\Processing'\n",
    "\n",
    "try:\n",
    "    os.makedirs(path1)\n",
    "    print('folder created')\n",
    "\n",
    "except FileExistsError:\n",
    "    print('File Already exist')\n",
    "    \n",
    "    \n",
    "path2='B:\\Bilateral files\\Queue'\n",
    "try:\n",
    "    os.mkdir(path2)\n",
    "    print('folder created')\n",
    "\n",
    "except FileExistsError:\n",
    "    print('File Already exist')\n",
    "\n",
    "path3='B:\\Bilateral files\\Process'\n",
    "try:\n",
    "    os.mkdir(path3)\n",
    "    print('folder created')\n",
    "\n",
    "except FileExistsError:\n",
    "    print('File Already exist')"
   ]
  },
  {
   "cell_type": "markdown",
   "id": "082b58cc",
   "metadata": {},
   "source": [
    "### 3. Making a thrade of 3 program running one at a time "
   ]
  },
  {
   "cell_type": "code",
   "execution_count": 14,
   "id": "c9aaa992",
   "metadata": {
    "scrolled": false
   },
   "outputs": [],
   "source": [
    "class first(Thread):\n",
    "    def run(self):\n",
    "        for i in range(10):\n",
    "            text=open('B:\\\\Bilateral files\\\\Processing\\\\new.txt','w+')\n",
    "            text.close()\n",
    "            sleep(2)\n",
    "\n",
    "class second(Thread):\n",
    "    def run(self):\n",
    "        #for i in range(10):\n",
    "            shutil.move ('B:\\\\Bilateral files\\\\Processing\\\\new.txt','B:\\\\Bilateral files\\\\Queue\\\\new.txt')\n",
    "            sleep(0.1)\n",
    "        \n",
    "\n",
    "class third(Thread):\n",
    "    def run(self):\n",
    "        #for i in range(10):\n",
    "            shutil.move ('B:\\\\Bilateral files\\\\Queue\\\\new.txt','B:\\\\Bilateral files\\\\Process\\\\new.txt')\n",
    "            sleep(0.1)\n",
    "\n",
    "        \n",
    "f1=first()\n",
    "f2=second()\n",
    "f3=third()\n",
    "\n",
    "\n",
    "f1.start()\n",
    "f1=threading.Timer(1,first)\n",
    "sleep(2)\n",
    "\n",
    "\n",
    "f2.start()\n",
    "f2=threading.Timer(1,second)\n",
    "sleep(2)\n",
    "\n",
    "\n",
    "f3.start()\n",
    "f3=threading.Timer(1,third)\n",
    "sleep(2) \n",
    "\n"
   ]
  },
  {
   "cell_type": "markdown",
   "id": "e42b9cd5",
   "metadata": {},
   "source": [
    "***This program is making a three folder (Processing, Queue, Process). \n",
    "In the Processing folder the 'new.txt' file is creating and and it moving into Queue folder in the given time period. \n",
    "From the Queue folder the 'new.txt' file is moving to Process folder.\n",
    "There it is a loop for the text file in processing part but the 'new.txt' file is not furthewr to the Queue folder.***"
   ]
  }
 ],
 "metadata": {
  "kernelspec": {
   "display_name": "Python 3 (ipykernel)",
   "language": "python",
   "name": "python3"
  },
  "language_info": {
   "codemirror_mode": {
    "name": "ipython",
    "version": 3
   },
   "file_extension": ".py",
   "mimetype": "text/x-python",
   "name": "python",
   "nbconvert_exporter": "python",
   "pygments_lexer": "ipython3",
   "version": "3.9.7"
  }
 },
 "nbformat": 4,
 "nbformat_minor": 5
}
